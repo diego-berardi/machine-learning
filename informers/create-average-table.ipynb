{
 "cells": [
  {
   "cell_type": "code",
   "execution_count": 2,
   "metadata": {},
   "outputs": [],
   "source": [
    "\n",
    "import scipy.io as sio\n",
    "import pandas as pd\n",
    "import numpy as np"
   ]
  },
  {
   "cell_type": "code",
   "execution_count": 3,
   "metadata": {},
   "outputs": [
    {
     "name": "stdout",
     "output_type": "stream",
     "text": [
      "dict_keys(['__header__', '__version__', '__globals__', 'singleData'])\n",
      "[[-21702628.   -8657071.    7671702.  ...  -7847381.5  24490868.\n",
      "   41916830. ]]\n"
     ]
    }
   ],
   "source": [
    "mat_data = sio.loadmat('../B101/Channel1.mat')\n",
    "print(mat_data.keys())\n",
    "x = mat_data['singleData']\n",
    "print(x)"
   ]
  },
  {
   "cell_type": "code",
   "execution_count": 4,
   "metadata": {},
   "outputs": [
    {
     "data": {
      "text/html": [
       "<div>\n",
       "<style scoped>\n",
       "    .dataframe tbody tr th:only-of-type {\n",
       "        vertical-align: middle;\n",
       "    }\n",
       "\n",
       "    .dataframe tbody tr th {\n",
       "        vertical-align: top;\n",
       "    }\n",
       "\n",
       "    .dataframe thead th {\n",
       "        text-align: right;\n",
       "    }\n",
       "</style>\n",
       "<table border=\"1\" class=\"dataframe\">\n",
       "  <thead>\n",
       "    <tr style=\"text-align: right;\">\n",
       "      <th></th>\n",
       "      <th>0</th>\n",
       "      <th>1</th>\n",
       "      <th>2</th>\n",
       "      <th>3</th>\n",
       "      <th>4</th>\n",
       "      <th>5</th>\n",
       "      <th>6</th>\n",
       "      <th>7</th>\n",
       "      <th>8</th>\n",
       "      <th>9</th>\n",
       "      <th>...</th>\n",
       "      <th>12287989</th>\n",
       "      <th>12287990</th>\n",
       "      <th>12287991</th>\n",
       "      <th>12287992</th>\n",
       "      <th>12287993</th>\n",
       "      <th>12287994</th>\n",
       "      <th>12287995</th>\n",
       "      <th>12287996</th>\n",
       "      <th>12287997</th>\n",
       "      <th>12287998</th>\n",
       "    </tr>\n",
       "  </thead>\n",
       "  <tbody>\n",
       "    <tr>\n",
       "      <td>0</td>\n",
       "      <td>-21702628.0</td>\n",
       "      <td>-8657071.0</td>\n",
       "      <td>7671702.0</td>\n",
       "      <td>14368814.0</td>\n",
       "      <td>17132264.0</td>\n",
       "      <td>19591510.0</td>\n",
       "      <td>16921288.0</td>\n",
       "      <td>22267390.0</td>\n",
       "      <td>28665146.0</td>\n",
       "      <td>39199188.0</td>\n",
       "      <td>...</td>\n",
       "      <td>-17891566.0</td>\n",
       "      <td>-14465006.0</td>\n",
       "      <td>-14981806.0</td>\n",
       "      <td>-25018178.0</td>\n",
       "      <td>-29990018.0</td>\n",
       "      <td>-31674332.0</td>\n",
       "      <td>-25849960.0</td>\n",
       "      <td>-7847381.5</td>\n",
       "      <td>24490868.0</td>\n",
       "      <td>41916832.0</td>\n",
       "    </tr>\n",
       "  </tbody>\n",
       "</table>\n",
       "<p>1 rows × 12287999 columns</p>\n",
       "</div>"
      ],
      "text/plain": [
       "     0          1          2           3           4           5         \\\n",
       "0 -21702628.0 -8657071.0  7671702.0  14368814.0  17132264.0  19591510.0   \n",
       "\n",
       "     6           7           8           9         ...    12287989  \\\n",
       "0  16921288.0  22267390.0  28665146.0  39199188.0  ... -17891566.0   \n",
       "\n",
       "     12287990    12287991    12287992    12287993    12287994    12287995  \\\n",
       "0 -14465006.0 -14981806.0 -25018178.0 -29990018.0 -31674332.0 -25849960.0   \n",
       "\n",
       "    12287996    12287997    12287998  \n",
       "0 -7847381.5  24490868.0  41916832.0  \n",
       "\n",
       "[1 rows x 12287999 columns]"
      ]
     },
     "execution_count": 4,
     "metadata": {},
     "output_type": "execute_result"
    }
   ],
   "source": [
    "\n",
    "df = pd.DataFrame(x)\n",
    "df.head()"
   ]
  },
  {
   "cell_type": "code",
   "execution_count": 8,
   "metadata": {},
   "outputs": [],
   "source": [
    "\n",
    "from datetime import datetime\n",
    "\n",
    "lengthOfRow = 12287998\n",
    "\n",
    "# print(\"hel\")\n",
    "# print(df[0])\n",
    "# print(\"hel\")\n",
    "# print(len(df))\n",
    "\n",
    "array_x = []\n",
    "array_y = []\n",
    "\n",
    "\n",
    "sum = 0\n",
    "averageOf = 1000\n",
    "for i in range(0, lengthOfRow):\n",
    "    # print(f\"Value at position {idx}: {df[idx]}\")\n",
    "    sum += df[i].values[0]\n",
    "    if(i % averageOf == 0):\n",
    "        avg = sum / averageOf\n",
    "        specific_timestamp = 0 +1000 * (i / averageOf)\n",
    "        date_from_timestamp = datetime.fromtimestamp(specific_timestamp/1000)\n",
    "        array_x.append(date_from_timestamp)\n",
    "        array_y.append(avg)\n",
    "        sum = 0\n"
   ]
  },
  {
   "cell_type": "code",
   "execution_count": 9,
   "metadata": {},
   "outputs": [
    {
     "name": "stdout",
     "output_type": "stream",
     "text": [
      "len of x: 12288\n",
      "len of y: 12288\n",
      "[datetime.datetime(1970, 1, 1, 1, 0), datetime.datetime(1970, 1, 1, 1, 0, 1), datetime.datetime(1970, 1, 1, 1, 0, 2), datetime.datetime(1970, 1, 1, 1, 0, 3), datetime.datetime(1970, 1, 1, 1, 0, 4), datetime.datetime(1970, 1, 1, 1, 0, 5), datetime.datetime(1970, 1, 1, 1, 0, 6), datetime.datetime(1970, 1, 1, 1, 0, 7), datetime.datetime(1970, 1, 1, 1, 0, 8), datetime.datetime(1970, 1, 1, 1, 0, 9)]\n",
      "[-21702.628, 7011038.219018554, -4304874.396046875, 100649.86612512208, -4191800.284859375, 250511.2945625, -6135944.15647168, -1564709.3129848633, 4526830.719890625, 3683075.6203791504]\n"
     ]
    }
   ],
   "source": [
    "print(\"len of x: \" + str(len(array_x) ))\n",
    "\n",
    "print(\"len of y: \" + str(len(array_y) ))\n",
    "\n",
    "print(array_x[0:10])\n",
    "print(array_y[0:10])"
   ]
  },
  {
   "cell_type": "code",
   "execution_count": null,
   "metadata": {},
   "outputs": [],
   "source": []
  },
  {
   "cell_type": "code",
   "execution_count": 10,
   "metadata": {},
   "outputs": [],
   "source": [
    "\n",
    "import csv\n",
    "\n",
    "# Create and write to CSV file\n",
    "with open('output-with-date-average-1000.csv', 'w', newline='') as file:\n",
    "    writer = csv.writer(file)\n",
    "    # Write headers\n",
    "    writer.writerow(['date', 'pressure'])\n",
    "    # Write data rows\n",
    "    writer.writerows(zip(array_x, array_y))"
   ]
  },
  {
   "cell_type": "code",
   "execution_count": null,
   "metadata": {},
   "outputs": [],
   "source": []
  }
 ],
 "metadata": {
  "kernelspec": {
   "display_name": "babble",
   "language": "python",
   "name": "python3"
  },
  "language_info": {
   "codemirror_mode": {
    "name": "ipython",
    "version": 3
   },
   "file_extension": ".py",
   "mimetype": "text/x-python",
   "name": "python",
   "nbconvert_exporter": "python",
   "pygments_lexer": "ipython3",
   "version": "3.6.7"
  }
 },
 "nbformat": 4,
 "nbformat_minor": 2
}
