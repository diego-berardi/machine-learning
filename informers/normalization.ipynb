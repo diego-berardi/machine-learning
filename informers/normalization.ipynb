{
 "cells": [
  {
   "cell_type": "code",
   "execution_count": 1,
   "metadata": {},
   "outputs": [],
   "source": [
    "\n",
    "from torch.utils.data import DataLoader\n",
    "import pandas as pd\n",
    "import os\n",
    "\n",
    "df = pd.read_csv(os.path.join(\"./\" , \"output-with-date-average-1000.csv\"))"
   ]
  },
  {
   "cell_type": "code",
   "execution_count": 2,
   "metadata": {},
   "outputs": [
    {
     "data": {
      "text/html": [
       "<div>\n",
       "<style scoped>\n",
       "    .dataframe tbody tr th:only-of-type {\n",
       "        vertical-align: middle;\n",
       "    }\n",
       "\n",
       "    .dataframe tbody tr th {\n",
       "        vertical-align: top;\n",
       "    }\n",
       "\n",
       "    .dataframe thead th {\n",
       "        text-align: right;\n",
       "    }\n",
       "</style>\n",
       "<table border=\"1\" class=\"dataframe\">\n",
       "  <thead>\n",
       "    <tr style=\"text-align: right;\">\n",
       "      <th></th>\n",
       "      <th>date</th>\n",
       "      <th>pressure</th>\n",
       "    </tr>\n",
       "  </thead>\n",
       "  <tbody>\n",
       "    <tr>\n",
       "      <td>0</td>\n",
       "      <td>1970-01-01 01:00:00</td>\n",
       "      <td>-2.170263e+04</td>\n",
       "    </tr>\n",
       "    <tr>\n",
       "      <td>1</td>\n",
       "      <td>1970-01-01 01:00:01</td>\n",
       "      <td>7.011038e+06</td>\n",
       "    </tr>\n",
       "    <tr>\n",
       "      <td>2</td>\n",
       "      <td>1970-01-01 01:00:02</td>\n",
       "      <td>-4.304874e+06</td>\n",
       "    </tr>\n",
       "    <tr>\n",
       "      <td>3</td>\n",
       "      <td>1970-01-01 01:00:03</td>\n",
       "      <td>1.006499e+05</td>\n",
       "    </tr>\n",
       "    <tr>\n",
       "      <td>4</td>\n",
       "      <td>1970-01-01 01:00:04</td>\n",
       "      <td>-4.191800e+06</td>\n",
       "    </tr>\n",
       "  </tbody>\n",
       "</table>\n",
       "</div>"
      ],
      "text/plain": [
       "                  date      pressure\n",
       "0  1970-01-01 01:00:00 -2.170263e+04\n",
       "1  1970-01-01 01:00:01  7.011038e+06\n",
       "2  1970-01-01 01:00:02 -4.304874e+06\n",
       "3  1970-01-01 01:00:03  1.006499e+05\n",
       "4  1970-01-01 01:00:04 -4.191800e+06"
      ]
     },
     "execution_count": 2,
     "metadata": {},
     "output_type": "execute_result"
    }
   ],
   "source": [
    "\n",
    "df.head()"
   ]
  },
  {
   "cell_type": "code",
   "execution_count": 3,
   "metadata": {},
   "outputs": [],
   "source": [
    "import numpy as np\n",
    "\n",
    "def normalize_pressure_numpy(pressure_values):\n",
    "    \"\"\"\n",
    "    Normalize pressure values using NumPy\n",
    "    \"\"\"\n",
    "    pressure_array = np.array(pressure_values)\n",
    "    normalized = (pressure_array - np.min(pressure_array)) / \\\n",
    "                (np.max(pressure_array) - np.min(pressure_array))\n",
    "    return normalized"
   ]
  },
  {
   "cell_type": "code",
   "execution_count": 4,
   "metadata": {},
   "outputs": [],
   "source": [
    "# Get normalized pressure values\n",
    "normalized_pressures = normalize_pressure_numpy(df['pressure'].values)\n",
    "\n",
    "# Create new dataframe with original date and normalized pressure\n",
    "df_normalized = pd.DataFrame({\n",
    "    'date': df['date'],\n",
    "    'pressure_normalized': normalized_pressures\n",
    "})\n",
    "\n",
    "# Save to new CSV file\n",
    "output_path = './normalized_pressure-1000.csv'\n",
    "df_normalized.to_csv(output_path, index=False)"
   ]
  }
 ],
 "metadata": {
  "kernelspec": {
   "display_name": "babble",
   "language": "python",
   "name": "python3"
  },
  "language_info": {
   "codemirror_mode": {
    "name": "ipython",
    "version": 3
   },
   "file_extension": ".py",
   "mimetype": "text/x-python",
   "name": "python",
   "nbconvert_exporter": "python",
   "pygments_lexer": "ipython3",
   "version": "3.6.7"
  }
 },
 "nbformat": 4,
 "nbformat_minor": 2
}
